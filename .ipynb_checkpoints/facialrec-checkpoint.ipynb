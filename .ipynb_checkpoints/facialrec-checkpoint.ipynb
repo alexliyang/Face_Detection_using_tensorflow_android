{
 "cells": [
  {
   "cell_type": "code",
   "execution_count": null,
   "metadata": {},
   "outputs": [
    {
     "name": "stderr",
     "output_type": "stream",
     "text": [
      "C:\\ProgramData\\Anaconda3\\lib\\site-packages\\h5py\\__init__.py:36: FutureWarning: Conversion of the second argument of issubdtype from `float` to `np.floating` is deprecated. In future, it will be treated as `np.float64 == np.dtype(float).type`.\n",
      "  from ._conv import register_converters as _register_converters\n",
      "Using TensorFlow backend.\n"
     ]
    },
    {
     "name": "stdout",
     "output_type": "stream",
     "text": [
      "Downloading data from https://www.cs.toronto.edu/~kriz/cifar-10-python.tar.gz\n",
      " 77570048/170498071 [============>.................] - ETA: 1:41"
     ]
    }
   ],
   "source": [
    "from keras.datasets import cifar10\n",
    "import glob\n",
    "from PIL import Image\n",
    "import numpy as np\n",
    "\n",
    "def load_non_face_images():\n",
    "    (_,_),(cifar10_images,_)=cifar10.load_data()\n",
    "    cifar10_images = cifar10_images[:60]\n",
    "    cifar10_images = cifar10_images.astype('float32')/255.0\n",
    "    return cifar10_images\n",
    "\n",
    "\n",
    "def load_face_images(dir_name):\n",
    "    output = []\n",
    "    for i in glob.glob(dir_name + '/*'):\n",
    "        image = Image.open(i).resize((32,32))\n",
    "        img_data = np.asarray(image, dtype='float32')/255.0\n",
    "        oid = np.transpose(img_data, (2,0,1))\n",
    "        output.append(oid)\n",
    "    return np.asarray(output)\n",
    "\n",
    "load_non_face_images()\n",
    "load_face_images('faceimages')\n",
    "    \n"
   ]
  },
  {
   "cell_type": "code",
   "execution_count": null,
   "metadata": {},
   "outputs": [],
   "source": []
  }
 ],
 "metadata": {
  "kernelspec": {
   "display_name": "Python 3",
   "language": "python",
   "name": "python3"
  },
  "language_info": {
   "codemirror_mode": {
    "name": "ipython",
    "version": 3
   },
   "file_extension": ".py",
   "mimetype": "text/x-python",
   "name": "python",
   "nbconvert_exporter": "python",
   "pygments_lexer": "ipython3",
   "version": "3.6.4"
  }
 },
 "nbformat": 4,
 "nbformat_minor": 2
}
